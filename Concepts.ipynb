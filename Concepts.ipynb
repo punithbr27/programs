{
 "cells": [
  {
   "cell_type": "markdown",
   "metadata": {},
   "source": [
    "Understanding the dimension in the array"
   ]
  },
  {
   "cell_type": "code",
   "execution_count": 2,
   "metadata": {},
   "outputs": [
    {
     "name": "stdout",
     "output_type": "stream",
     "text": [
      "[[ 1  2  3  4  5  6  7  8  9 10 11 12]]\n"
     ]
    }
   ],
   "source": [
    "import numpy as np\n",
    "\n",
    "# Create a 1D array with 12 elements\n",
    "original_array = np.array([1, 2, 3, 4, 5, 6, 7, 8, 9, 10, 11, 12]) \n",
    "\n",
    "# Reshape it into a 3D array with dimensions (2, 3, 2)\n",
    "new_array = original_array.reshape((-1,12)) \n",
    " \n",
    "print(new_array)"
   ]
  },
  {
   "cell_type": "markdown",
   "metadata": {},
   "source": [
    "Z score method for finding outliers\n"
   ]
  },
  {
   "cell_type": "code",
   "execution_count": 8,
   "metadata": {},
   "outputs": [
    {
     "name": "stdout",
     "output_type": "stream",
     "text": [
      "-0.49604736883284056\n",
      "-0.1984189475331362\n",
      "-0.1984189475331362\n",
      "-0.1984189475331362\n",
      "0.09920947376656816\n",
      "-0.49604736883284056\n",
      "-0.49604736883284056\n",
      "3.6707505293630205\n",
      "-0.1984189475331362\n",
      "-0.1984189475331362\n",
      "-0.1984189475331362\n",
      "0.09920947376656816\n",
      "-0.49604736883284056\n",
      "-0.49604736883284056\n",
      "-0.1984189475331362\n",
      "[15]\n"
     ]
    },
    {
     "data": {
      "text/plain": [
       "<Axes: >"
      ]
     },
     "execution_count": 8,
     "metadata": {},
     "output_type": "execute_result"
    },
    {
     "data": {
      "image/png": "[encoded data removed]",
      "text/plain": [
       "<Figure size 640x480 with 1 Axes>"
      ]
     },
     "metadata": {},
     "output_type": "display_data"
    }
   ],
   "source": [
    "import seaborn as sns\n",
    "data = np.array([1,2,2,2,3,1,1,15,2,2,2,3,1,1,2])\n",
    "mean = data.mean()\n",
    "std = data.std()\n",
    "outlier = []\n",
    "new_data = []\n",
    "for i in data:\n",
    "    out = (i - mean)/std\n",
    "    new_data.append(out)\n",
    "    print(out)\n",
    "    if out > 3:\n",
    "        outlier.append(i)\n",
    "print(outlier)       \n",
    "\n",
    "sns.boxplot(new_data)"
   ]
  },
  {
   "cell_type": "markdown",
   "metadata": {},
   "source": [
    "Log10 Transformation\n"
   ]
  }
 ],
 "metadata": {
  "kernelspec": {
   "display_name": "Python 3",
   "language": "python",
   "name": "python3"
  },
  "language_info": {
   "codemirror_mode": {
    "name": "ipython",
    "version": 3
   },
   "file_extension": ".py",
   "mimetype": "text/x-python",
   "name": "python",
   "nbconvert_exporter": "python",
   "pygments_lexer": "ipython3",
   "version": "3.10.5"
  },
  "orig_nbformat": 4
 },
 "nbformat": 4,
 "nbformat_minor": 2
}
