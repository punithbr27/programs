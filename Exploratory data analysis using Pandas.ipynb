{
 "cells": [
  {
   "cell_type": "markdown",
   "metadata": {},
   "source": [
    "Exploratory data analysis with Pandas and Python 3.x"
   ]
  },
  {
   "cell_type": "markdown",
   "metadata": {},
   "source": [
    "Descriptive Statistics"
   ]
  },
  {
   "cell_type": "markdown",
   "metadata": {},
   "source": [
    "    Basic Statistical Measures (Mean, Median, Mode)"
   ]
  },
  {
   "cell_type": "code",
   "execution_count": 9,
   "metadata": {},
   "outputs": [
    {
     "name": "stdout",
     "output_type": "stream",
     "text": [
      "<class 'numpy.ndarray'>\n",
      "[5 2 9 6 5 6 6 6 6 6 6 6 6 3 5 8 9 6 8]\n",
      "6.0\n",
      "6.0\n"
     ]
    },
    {
     "name": "stderr",
     "output_type": "stream",
     "text": [
      "C:\\Users\\Admin\\AppData\\Local\\Temp\\ipykernel_8748\\1651219988.py:11: FutureWarning: Unlike other reduction functions (e.g. `skew`, `kurtosis`), the default behavior of `mode` typically preserves the axis it acts along. In SciPy 1.11.0, this behavior will change: the default value of `keepdims` will become False, the `axis` over which the statistic is taken will be eliminated, and the value None will no longer be accepted. Set `keepdims` to True or False to avoid this warning.\n",
      "  mode(my_array)\n"
     ]
    },
    {
     "data": {
      "text/plain": [
       "ModeResult(mode=array([6]), count=array([10]))"
      ]
     },
     "execution_count": 9,
     "metadata": {},
     "output_type": "execute_result"
    }
   ],
   "source": [
    "import numpy as np\n",
    "import pandas as pd \n",
    "from scipy.stats import mode\n",
    "\n",
    "my_list = [5,2,9,6,5,6,6,6,6,6,6,6,6,3,5,8,9,6,8]\n",
    "my_array = np.asanyarray(my_list)\n",
    "print(type(my_array))\n",
    "print(my_array) \n",
    "print(np.mean(my_array))\n",
    "print(np.median(my_array))\n",
    "mode(my_array)"
   ]
  },
  {
   "cell_type": "markdown",
   "metadata": {},
   "source": [
    "    Variance and Standard Deviation\n",
    "        "
   ]
  },
  {
   "cell_type": "markdown",
   "metadata": {},
   "source": [
    "    Variance and Standard Deviation\n",
    "    "
   ]
  },
  {
   "cell_type": "code",
   "execution_count": 12,
   "metadata": {},
   "outputs": [
    {
     "name": "stdout",
     "output_type": "stream",
     "text": [
      "2.8421052631578947\n",
      "1.6858544608470492\n",
      "4.314145539152951\n",
      "7.685854460847049\n"
     ]
    }
   ],
   "source": [
    "print(np.var(my_array))\n",
    "print(np.std(my_array))\n",
    "\n",
    "#lower range is equal to mean - std\n",
    "lower_range = np.mean(my_array) - np.std(my_array)\n",
    "higher_range = np.mean(my_array) + np.std(my_array)\n",
    "print(lower_range)\n",
    "print(higher_range)"
   ]
  },
  {
   "cell_type": "markdown",
   "metadata": {},
   "source": [
    "    Visualizing Statistical Measures"
   ]
  },
  {
   "cell_type": "code",
   "execution_count": 39,
   "metadata": {},
   "outputs": [
    {
     "name": "stdout",
     "output_type": "stream",
     "text": [
      "[46.06976637 48.73008988 47.85991629 ... 53.35059447 50.12867456\n",
      " 56.36441211]\n",
      "65.73428651771842\n",
      "33.77368452827102\n"
     ]
    },
    {
     "data": {
      "image/png": "[encoded data removed]",
      "text/plain": [
       "<Figure size 640x480 with 1 Axes>"
      ]
     },
     "metadata": {},
     "output_type": "display_data"
    }
   ],
   "source": [
    "import matplotlib.pyplot as plt\n",
    "x = np.random.normal(50,5,2000)\n",
    "print(x)\n",
    "print(max(x))\n",
    "print(min(x))\n",
    "\n",
    "\n",
    "plt.hist(x, edgecolor = 'k',bins = 7,)\n",
    "plt.show()"
   ]
  },
  {
   "cell_type": "markdown",
   "metadata": {},
   "source": [
    "    Calculating Percentiles"
   ]
  },
  {
   "cell_type": "code",
   "execution_count": null,
   "metadata": {},
   "outputs": [],
   "source": [
    "#It is a theoritical part\n"
   ]
  },
  {
   "cell_type": "markdown",
   "metadata": {},
   "source": [
    "    Quartiles and Box Plots"
   ]
  },
  {
   "cell_type": "code",
   "execution_count": 54,
   "metadata": {},
   "outputs": [
    {
     "name": "stdout",
     "output_type": "stream",
     "text": [
      "6.0\n",
      "9.0\n",
      "5.5 6.0 6.0\n",
      "6.0\n"
     ]
    },
    {
     "data": {
      "text/plain": [
       "<Axes: >"
      ]
     },
     "execution_count": 54,
     "metadata": {},
     "output_type": "execute_result"
    },
    {
     "data": {
      "image/png": "[encoded data removed]",
      "text/plain": [
       "<Figure size 640x480 with 1 Axes>"
      ]
     },
     "metadata": {},
     "output_type": "display_data"
    }
   ],
   "source": [
    "print(np.percentile(my_array,55)) #95 is a percentile of my_array which means around 95% of data will be less than 9\n",
    "print(np.percentile(my_array,100))\n",
    "\n",
    "\n",
    "Q1 = np.percentile(my_array,25)\n",
    "Q2 = np.percentile(my_array,50)\n",
    "Q3 = np.percentile(my_array,75)\n",
    "print(Q1,Q2,Q3)\n",
    "print(np.median(my_array))\n",
    "\n",
    "\n",
    "import seaborn as sns\n",
    "sns.boxplot(x)\n"
   ]
  },
  {
   "cell_type": "markdown",
   "metadata": {},
   "source": [
    "."
   ]
  },
  {
   "cell_type": "markdown",
   "metadata": {},
   "source": [
    "."
   ]
  },
  {
   "cell_type": "markdown",
   "metadata": {},
   "source": [
    "."
   ]
  },
  {
   "cell_type": "markdown",
   "metadata": {},
   "source": [
    "Dealing with Missing Values"
   ]
  },
  {
   "cell_type": "markdown",
   "metadata": {},
   "source": [
    "    Finding Missing Values\n",
    "    "
   ]
  },
  {
   "cell_type": "code",
   "execution_count": 69,
   "metadata": {},
   "outputs": [
    {
     "name": "stdout",
     "output_type": "stream",
     "text": [
      "    No      Name   Age            Place\n",
      "0  1.0    Punith  18.0              NaN\n",
      "1  2.0     Bindu   NaN  Palace Guttalli\n",
      "2  3.0       NaN  50.0     Hegganahalli\n",
      "3  NaN  Susheela  40.0    Kamakshipalya\n",
      "4  5.0   Gowtham   NaN              NaN\n",
      "5  NaN    Bhavya  23.0              NaN \n",
      "\n",
      "\n",
      "             No        Age\n",
      "count  4.000000   4.000000\n",
      "mean   2.750000  32.750000\n",
      "std    1.707825  14.863266\n",
      "min    1.000000  18.000000\n",
      "25%    1.750000  21.750000\n",
      "50%    2.500000  31.500000\n",
      "75%    3.500000  42.500000\n",
      "max    5.000000  50.000000 \n",
      "\n",
      "\n",
      "Length of the actual file is  6 \n",
      "\n",
      "\n",
      "      No   Name    Age  Place\n",
      "0  False  False  False   True\n",
      "1  False  False   True  False\n",
      "2  False   True  False  False\n",
      "3   True  False  False  False\n",
      "4  False  False   True   True\n",
      "5   True  False  False   True \n",
      "\n",
      "\n",
      "      No   Name    Age  Place\n",
      "0   True   True   True  False\n",
      "1   True   True  False   True\n",
      "2   True  False   True   True\n",
      "3  False   True   True   True\n",
      "4   True   True  False  False\n",
      "5  False   True   True  False \n",
      "\n",
      "\n",
      "      No   Name    Age  Place\n",
      "0  False  False  False   True\n",
      "1  False  False   True  False\n",
      "2  False   True  False  False\n",
      "3   True  False  False  False\n",
      "4  False  False   True   True\n",
      "5   True  False  False   True \n",
      "\n",
      "\n",
      "\n",
      "Finding count of missing values\n",
      "No       2\n",
      "Name     1\n",
      "Age      2\n",
      "Place    3\n",
      "dtype: int64\n"
     ]
    }
   ],
   "source": [
    "df = pd.read_csv(\"C:\\\\Users\\\\Admin\\\\Desktop\\\\Folders\\\\Datasets\\\\missing.csv\")\n",
    "print(df,\"\\n\\n\")\n",
    "\n",
    "print(df.describe(),\"\\n\\n\")   #here there are 6 data but it is showing the count to 4 because it is not counting the null values\n",
    "print(\"Length of the actual file is \",len(df),\"\\n\\n\")\n",
    "#We can basically find the missing values using len() for actual length and describe() which give the count of the values except the missing values\n",
    "print(df.isna(),\"\\n\\n\")\n",
    "print(df.notnull(),\"\\n\\n\")\n",
    "print(df.isnull(),\"\\n\\n\\n\")\n",
    "\n",
    "\n",
    "print(\"Finding count of missing values\")\n",
    "print(df.isnull().sum())\n"
   ]
  }
 ],
 "metadata": {
  "kernelspec": {
   "display_name": "Python 3",
   "language": "python",
   "name": "python3"
  },
  "language_info": {
   "codemirror_mode": {
    "name": "ipython",
    "version": 3
   },
   "file_extension": ".py",
   "mimetype": "text/x-python",
   "name": "python",
   "nbconvert_exporter": "python",
   "pygments_lexer": "ipython3",
   "version": "3.10.5"
  },
  "orig_nbformat": 4
 },
 "nbformat": 4,
 "nbformat_minor": 2
}
