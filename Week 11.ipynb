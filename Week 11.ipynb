{
 "cells": [
  {
   "cell_type": "code",
   "execution_count": 2,
   "metadata": {},
   "outputs": [
    {
     "name": "stdout",
     "output_type": "stream",
     "text": [
      "I3f your          child is old enough, it might be helpful to discuss a story in-depth after they finish reading it. Stories have power, and they can prove to be teachable moments. Moral stories such as the popular thirsty crow story or the greedy dog story in English can teach our kids important life lessons. These discussions also offer an opportunity for you to bond with your kids.How Moral Stories Benefit KidsThere are plenty of moral stories in English rich with benefits for kids. They activate your childâ€™s imagination, entertain them, and make them happy. Short moral stories are ideal for maintaining their attention and keeping them focused during the entire storyHowever, the best moral stories in English teach your children universal truths. Reading the same moral stories to them repetitively will help them to familiarise themselves with the story and its moral lesson. The best part about moral stories is that they can teach your kid life lessons in a fun and easy way.Short moral stories for kids are the best way to teach valuable life lessons to kids. It is a fun and easy way through which children can understand complex concepts. Short stories work well as theyâ€™re just long enough for your child to concentrate.\n",
      "ies stories stories stories stories \n",
      "i me my my we ours you i me i i i i i i i to you moral moral moral moral moral moral moral moral moral moral moral    ..\n",
      "Sentence :  1\n",
      "I3f your          child is old enough, it might be helpful to discuss a story in-depth after they finish reading it.\n",
      "Sentence :  2\n",
      "Stories have power, and they can prove to be teachable moments.\n",
      "Sentence :  3\n",
      "Moral stories such as the popular thirsty crow story or the greedy dog story in English can teach our kids important life lessons.\n",
      "Sentence :  4\n",
      "These discussions also offer an opportunity for you to bond with your kids.How Moral Stories Benefit KidsThere are plenty of moral stories in English rich with benefits for kids.\n",
      "Sentence :  5\n",
      "They activate your childâ€™s imagination, entertain them, and make them happy.\n",
      "Sentence :  6\n",
      "Short moral stories are ideal for maintaining their attention and keeping them focused during the entire storyHowever, the best moral stories in English teach your children universal truths.\n",
      "Sentence :  7\n",
      "Reading the same moral stories to them repetitively will help them to familiarise themselves with the story and its moral lesson.\n",
      "Sentence :  8\n",
      "The best part about moral stories is that they can teach your kid life lessons in a fun and easy way.Short moral stories for kids are the best way to teach valuable life lessons to kids.\n",
      "Sentence :  9\n",
      "It is a fun and easy way through which children can understand complex concepts.\n",
      "Sentence :  10\n",
      "Short stories work well as theyâ€™re just long enough for your child to concentrate.\n",
      "Sentence :  11\n",
      "ies stories stories stories stories \n",
      "i me my my we ours you i me i i i i i i i to you moral moral moral moral moral moral moral moral moral moral moral    ..\n"
     ]
    }
   ],
   "source": [
    "from nltk.tokenize import sent_tokenize\n",
    "\n",
    "file = open('C:\\\\Users\\\\Admin\\\\Desktop\\\\a.txt','r')\n",
    "text = file.read()\n",
    "print(text)\n",
    "\n",
    "sentence = sent_tokenize(text)\n",
    "for i in range(len(sentence)): \n",
    "    print('Sentence : ',i+1) \n",
    "    print(sentence[i])"
   ]
  }
 ],
 "metadata": {
  "kernelspec": {
   "display_name": "Python 3",
   "language": "python",
   "name": "python3"
  },
  "language_info": {
   "codemirror_mode": {
    "name": "ipython",
    "version": 3
   },
   "file_extension": ".py",
   "mimetype": "text/x-python",
   "name": "python",
   "nbconvert_exporter": "python",
   "pygments_lexer": "ipython3",
   "version": "3.10.5"
  }
 },
 "nbformat": 4,
 "nbformat_minor": 2
}
